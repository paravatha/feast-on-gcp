{
 "cells": [
  {
   "cell_type": "markdown",
   "metadata": {},
   "source": [
    "# Minimal Ride Hailing Example"
   ]
  },
  {
   "cell_type": "markdown",
   "metadata": {},
   "source": [
    "![Feast Data Flow](https://raw.githubusercontent.com/feast-dev/feast/master/examples/minimal/images/data-flow.png)"
   ]
  },
  {
   "cell_type": "markdown",
   "metadata": {},
   "source": [
    "## Introduction"
   ]
  },
  {
   "cell_type": "markdown",
   "metadata": {},
   "source": [
    "For this quick start, we will:\n",
    "1. Register two driver features, one for driver statistics, the other for driver trips. Driver statistics are updated on daily basis, whereas driver trips are updated in real time.\n",
    "2. Creates a driver dataset, then use Feast SDK to retrieve the features corresponding to these drivers from an offline store.\n",
    "3. Store the features in an online store (Redis), and retrieve the features via Feast SDK."
   ]
  },
  {
   "cell_type": "markdown",
   "metadata": {},
   "source": [
    "## Features Registry (Feast Core)"
   ]
  },
  {
   "cell_type": "markdown",
   "metadata": {},
   "source": [
    "### Configuration"
   ]
  },
  {
   "cell_type": "markdown",
   "metadata": {},
   "source": [
    "Configurations can be provided in three different methods:"
   ]
  },
  {
   "cell_type": "code",
   "execution_count": 1,
   "metadata": {},
   "outputs": [],
   "source": [
    "# Using environmental variables\n",
    "# os.environ[\"FEAST_CORE_URL\"] = \"core:6565\"\n",
    "# os.environ[\"FEAST_SERVING_URL\"] = \"online_serving:6566\"\n",
    "\n",
    "# Provide a map during client initialization\n",
    "# options = {\n",
    "#     \"CORE_URL\": \"core:6565\",\n",
    "#     \"SERVING_URL\": \"online_serving:6566\", \n",
    "# }\n",
    "# client = Client(options)\n",
    "\n",
    "# As keyword arguments, without the `FEAST` prefix\n",
    "# client = Client(core_url=\"core:6565\", serving_url=\"online_serving:6566\")"
   ]
  },
  {
   "cell_type": "markdown",
   "metadata": {},
   "source": [
    "If you are following the quick start guide, all required configurations to follow the remainder of the tutorial should have been setup, in the form of environmental variables, as showned below. The configuration values may differ depending on the environment. For a full list of configurable values and explanation, please refer to the user guide."
   ]
  },
  {
   "cell_type": "code",
   "execution_count": 2,
   "metadata": {},
   "outputs": [
    {
     "name": "stdout",
     "output_type": "stream",
     "text": [
      "{'FEAST_CORE_URL': 'feast-release-feast-core:6565',\n",
      " 'FEAST_HISTORICAL_SERVING_URL': 'feast-release-feast-batch-serving:6566',\n",
      " 'FEAST_RELEASE_FEAST_CORE_PORT': 'tcp://10.79.252.221:80',\n",
      " 'FEAST_RELEASE_FEAST_CORE_PORT_6565_TCP': 'tcp://10.79.252.221:6565',\n",
      " 'FEAST_RELEASE_FEAST_CORE_PORT_6565_TCP_ADDR': '10.79.252.221',\n",
      " 'FEAST_RELEASE_FEAST_CORE_PORT_6565_TCP_PORT': '6565',\n",
      " 'FEAST_RELEASE_FEAST_CORE_PORT_6565_TCP_PROTO': 'tcp',\n",
      " 'FEAST_RELEASE_FEAST_CORE_PORT_80_TCP': 'tcp://10.79.252.221:80',\n",
      " 'FEAST_RELEASE_FEAST_CORE_PORT_80_TCP_ADDR': '10.79.252.221',\n",
      " 'FEAST_RELEASE_FEAST_CORE_PORT_80_TCP_PORT': '80',\n",
      " 'FEAST_RELEASE_FEAST_CORE_PORT_80_TCP_PROTO': 'tcp',\n",
      " 'FEAST_RELEASE_FEAST_CORE_SERVICE_HOST': '10.79.252.221',\n",
      " 'FEAST_RELEASE_FEAST_CORE_SERVICE_PORT': '80',\n",
      " 'FEAST_RELEASE_FEAST_CORE_SERVICE_PORT_GRPC': '6565',\n",
      " 'FEAST_RELEASE_FEAST_CORE_SERVICE_PORT_HTTP': '80',\n",
      " 'FEAST_RELEASE_FEAST_JOBSERVICE_PORT': 'tcp://10.79.240.222:80',\n",
      " 'FEAST_RELEASE_FEAST_JOBSERVICE_PORT_6568_TCP': 'tcp://10.79.240.222:6568',\n",
      " 'FEAST_RELEASE_FEAST_JOBSERVICE_PORT_6568_TCP_ADDR': '10.79.240.222',\n",
      " 'FEAST_RELEASE_FEAST_JOBSERVICE_PORT_6568_TCP_PORT': '6568',\n",
      " 'FEAST_RELEASE_FEAST_JOBSERVICE_PORT_6568_TCP_PROTO': 'tcp',\n",
      " 'FEAST_RELEASE_FEAST_JOBSERVICE_PORT_80_TCP': 'tcp://10.79.240.222:80',\n",
      " 'FEAST_RELEASE_FEAST_JOBSERVICE_PORT_80_TCP_ADDR': '10.79.240.222',\n",
      " 'FEAST_RELEASE_FEAST_JOBSERVICE_PORT_80_TCP_PORT': '80',\n",
      " 'FEAST_RELEASE_FEAST_JOBSERVICE_PORT_80_TCP_PROTO': 'tcp',\n",
      " 'FEAST_RELEASE_FEAST_JOBSERVICE_SERVICE_HOST': '10.79.240.222',\n",
      " 'FEAST_RELEASE_FEAST_JOBSERVICE_SERVICE_PORT': '80',\n",
      " 'FEAST_RELEASE_FEAST_JOBSERVICE_SERVICE_PORT_GRPC': '6568',\n",
      " 'FEAST_RELEASE_FEAST_JOBSERVICE_SERVICE_PORT_HTTP': '80',\n",
      " 'FEAST_RELEASE_FEAST_ONLINE_SERVING_PORT': 'tcp://10.79.241.44:80',\n",
      " 'FEAST_RELEASE_FEAST_ONLINE_SERVING_PORT_6566_TCP': 'tcp://10.79.241.44:6566',\n",
      " 'FEAST_RELEASE_FEAST_ONLINE_SERVING_PORT_6566_TCP_ADDR': '10.79.241.44',\n",
      " 'FEAST_RELEASE_FEAST_ONLINE_SERVING_PORT_6566_TCP_PORT': '6566',\n",
      " 'FEAST_RELEASE_FEAST_ONLINE_SERVING_PORT_6566_TCP_PROTO': 'tcp',\n",
      " 'FEAST_RELEASE_FEAST_ONLINE_SERVING_PORT_80_TCP': 'tcp://10.79.241.44:80',\n",
      " 'FEAST_RELEASE_FEAST_ONLINE_SERVING_PORT_80_TCP_ADDR': '10.79.241.44',\n",
      " 'FEAST_RELEASE_FEAST_ONLINE_SERVING_PORT_80_TCP_PORT': '80',\n",
      " 'FEAST_RELEASE_FEAST_ONLINE_SERVING_PORT_80_TCP_PROTO': 'tcp',\n",
      " 'FEAST_RELEASE_FEAST_ONLINE_SERVING_SERVICE_HOST': '10.79.241.44',\n",
      " 'FEAST_RELEASE_FEAST_ONLINE_SERVING_SERVICE_PORT': '80',\n",
      " 'FEAST_RELEASE_FEAST_ONLINE_SERVING_SERVICE_PORT_GRPC': '6566',\n",
      " 'FEAST_RELEASE_FEAST_ONLINE_SERVING_SERVICE_PORT_HTTP': '80',\n",
      " 'FEAST_RELEASE_GRAFANA_PORT': 'tcp://10.79.245.163:80',\n",
      " 'FEAST_RELEASE_GRAFANA_PORT_80_TCP': 'tcp://10.79.245.163:80',\n",
      " 'FEAST_RELEASE_GRAFANA_PORT_80_TCP_ADDR': '10.79.245.163',\n",
      " 'FEAST_RELEASE_GRAFANA_PORT_80_TCP_PORT': '80',\n",
      " 'FEAST_RELEASE_GRAFANA_PORT_80_TCP_PROTO': 'tcp',\n",
      " 'FEAST_RELEASE_GRAFANA_SERVICE_HOST': '10.79.245.163',\n",
      " 'FEAST_RELEASE_GRAFANA_SERVICE_PORT': '80',\n",
      " 'FEAST_RELEASE_GRAFANA_SERVICE_PORT_SERVICE': '80',\n",
      " 'FEAST_RELEASE_KAFKA_PORT': 'tcp://10.79.251.169:9092',\n",
      " 'FEAST_RELEASE_KAFKA_PORT_9092_TCP': 'tcp://10.79.251.169:9092',\n",
      " 'FEAST_RELEASE_KAFKA_PORT_9092_TCP_ADDR': '10.79.251.169',\n",
      " 'FEAST_RELEASE_KAFKA_PORT_9092_TCP_PORT': '9092',\n",
      " 'FEAST_RELEASE_KAFKA_PORT_9092_TCP_PROTO': 'tcp',\n",
      " 'FEAST_RELEASE_KAFKA_SERVICE_HOST': '10.79.251.169',\n",
      " 'FEAST_RELEASE_KAFKA_SERVICE_PORT': '9092',\n",
      " 'FEAST_RELEASE_KAFKA_SERVICE_PORT_TCP_CLIENT': '9092',\n",
      " 'FEAST_RELEASE_KUBE_STATE_METRICS_PORT': 'tcp://10.79.244.244:8080',\n",
      " 'FEAST_RELEASE_KUBE_STATE_METRICS_PORT_8080_TCP': 'tcp://10.79.244.244:8080',\n",
      " 'FEAST_RELEASE_KUBE_STATE_METRICS_PORT_8080_TCP_ADDR': '10.79.244.244',\n",
      " 'FEAST_RELEASE_KUBE_STATE_METRICS_PORT_8080_TCP_PORT': '8080',\n",
      " 'FEAST_RELEASE_KUBE_STATE_METRICS_PORT_8080_TCP_PROTO': 'tcp',\n",
      " 'FEAST_RELEASE_KUBE_STATE_METRICS_SERVICE_HOST': '10.79.244.244',\n",
      " 'FEAST_RELEASE_KUBE_STATE_METRICS_SERVICE_PORT': '8080',\n",
      " 'FEAST_RELEASE_KUBE_STATE_METRICS_SERVICE_PORT_HTTP': '8080',\n",
      " 'FEAST_RELEASE_POSTGRESQL_PORT': 'tcp://10.79.254.160:5432',\n",
      " 'FEAST_RELEASE_POSTGRESQL_PORT_5432_TCP': 'tcp://10.79.254.160:5432',\n",
      " 'FEAST_RELEASE_POSTGRESQL_PORT_5432_TCP_ADDR': '10.79.254.160',\n",
      " 'FEAST_RELEASE_POSTGRESQL_PORT_5432_TCP_PORT': '5432',\n",
      " 'FEAST_RELEASE_POSTGRESQL_PORT_5432_TCP_PROTO': 'tcp',\n",
      " 'FEAST_RELEASE_POSTGRESQL_SERVICE_HOST': '10.79.254.160',\n",
      " 'FEAST_RELEASE_POSTGRESQL_SERVICE_PORT': '5432',\n",
      " 'FEAST_RELEASE_POSTGRESQL_SERVICE_PORT_TCP_POSTGRESQL': '5432',\n",
      " 'FEAST_RELEASE_PROMETHEUS_ALERTMANAGER_PORT': 'tcp://10.79.251.195:80',\n",
      " 'FEAST_RELEASE_PROMETHEUS_ALERTMANAGER_PORT_80_TCP': 'tcp://10.79.251.195:80',\n",
      " 'FEAST_RELEASE_PROMETHEUS_ALERTMANAGER_PORT_80_TCP_ADDR': '10.79.251.195',\n",
      " 'FEAST_RELEASE_PROMETHEUS_ALERTMANAGER_PORT_80_TCP_PORT': '80',\n",
      " 'FEAST_RELEASE_PROMETHEUS_ALERTMANAGER_PORT_80_TCP_PROTO': 'tcp',\n",
      " 'FEAST_RELEASE_PROMETHEUS_ALERTMANAGER_SERVICE_HOST': '10.79.251.195',\n",
      " 'FEAST_RELEASE_PROMETHEUS_ALERTMANAGER_SERVICE_PORT': '80',\n",
      " 'FEAST_RELEASE_PROMETHEUS_ALERTMANAGER_SERVICE_PORT_HTTP': '80',\n",
      " 'FEAST_RELEASE_PROMETHEUS_PUSHGATEWAY_PORT': 'tcp://10.79.252.85:9091',\n",
      " 'FEAST_RELEASE_PROMETHEUS_PUSHGATEWAY_PORT_9091_TCP': 'tcp://10.79.252.85:9091',\n",
      " 'FEAST_RELEASE_PROMETHEUS_PUSHGATEWAY_PORT_9091_TCP_ADDR': '10.79.252.85',\n",
      " 'FEAST_RELEASE_PROMETHEUS_PUSHGATEWAY_PORT_9091_TCP_PORT': '9091',\n",
      " 'FEAST_RELEASE_PROMETHEUS_PUSHGATEWAY_PORT_9091_TCP_PROTO': 'tcp',\n",
      " 'FEAST_RELEASE_PROMETHEUS_PUSHGATEWAY_SERVICE_HOST': '10.79.252.85',\n",
      " 'FEAST_RELEASE_PROMETHEUS_PUSHGATEWAY_SERVICE_PORT': '9091',\n",
      " 'FEAST_RELEASE_PROMETHEUS_PUSHGATEWAY_SERVICE_PORT_HTTP': '9091',\n",
      " 'FEAST_RELEASE_PROMETHEUS_SERVER_PORT': 'tcp://10.79.244.129:80',\n",
      " 'FEAST_RELEASE_PROMETHEUS_SERVER_PORT_80_TCP': 'tcp://10.79.244.129:80',\n",
      " 'FEAST_RELEASE_PROMETHEUS_SERVER_PORT_80_TCP_ADDR': '10.79.244.129',\n",
      " 'FEAST_RELEASE_PROMETHEUS_SERVER_PORT_80_TCP_PORT': '80',\n",
      " 'FEAST_RELEASE_PROMETHEUS_SERVER_PORT_80_TCP_PROTO': 'tcp',\n",
      " 'FEAST_RELEASE_PROMETHEUS_SERVER_SERVICE_HOST': '10.79.244.129',\n",
      " 'FEAST_RELEASE_PROMETHEUS_SERVER_SERVICE_PORT': '80',\n",
      " 'FEAST_RELEASE_PROMETHEUS_SERVER_SERVICE_PORT_HTTP': '80',\n",
      " 'FEAST_RELEASE_PROMETHEUS_STATSD_EXPORTER_PORT': 'tcp://10.79.254.185:9102',\n",
      " 'FEAST_RELEASE_PROMETHEUS_STATSD_EXPORTER_PORT_9102_TCP': 'tcp://10.79.254.185:9102',\n",
      " 'FEAST_RELEASE_PROMETHEUS_STATSD_EXPORTER_PORT_9102_TCP_ADDR': '10.79.254.185',\n",
      " 'FEAST_RELEASE_PROMETHEUS_STATSD_EXPORTER_PORT_9102_TCP_PORT': '9102',\n",
      " 'FEAST_RELEASE_PROMETHEUS_STATSD_EXPORTER_PORT_9102_TCP_PROTO': 'tcp',\n",
      " 'FEAST_RELEASE_PROMETHEUS_STATSD_EXPORTER_PORT_9125_TCP': 'tcp://10.79.254.185:9125',\n",
      " 'FEAST_RELEASE_PROMETHEUS_STATSD_EXPORTER_PORT_9125_TCP_ADDR': '10.79.254.185',\n",
      " 'FEAST_RELEASE_PROMETHEUS_STATSD_EXPORTER_PORT_9125_TCP_PORT': '9125',\n",
      " 'FEAST_RELEASE_PROMETHEUS_STATSD_EXPORTER_PORT_9125_TCP_PROTO': 'tcp',\n",
      " 'FEAST_RELEASE_PROMETHEUS_STATSD_EXPORTER_SERVICE_HOST': '10.79.254.185',\n",
      " 'FEAST_RELEASE_PROMETHEUS_STATSD_EXPORTER_SERVICE_PORT': '9102',\n",
      " 'FEAST_RELEASE_PROMETHEUS_STATSD_EXPORTER_SERVICE_PORT_METRICS': '9102',\n",
      " 'FEAST_RELEASE_PROMETHEUS_STATSD_EXPORTER_SERVICE_PORT_STATSD_TCP': '9125',\n",
      " 'FEAST_RELEASE_PROMETHEUS_STATSD_EXPORTER_UDP_PORT': 'udp://10.79.245.251:9125',\n",
      " 'FEAST_RELEASE_PROMETHEUS_STATSD_EXPORTER_UDP_PORT_9125_UDP': 'udp://10.79.245.251:9125',\n",
      " 'FEAST_RELEASE_PROMETHEUS_STATSD_EXPORTER_UDP_PORT_9125_UDP_ADDR': '10.79.245.251',\n",
      " 'FEAST_RELEASE_PROMETHEUS_STATSD_EXPORTER_UDP_PORT_9125_UDP_PORT': '9125',\n",
      " 'FEAST_RELEASE_PROMETHEUS_STATSD_EXPORTER_UDP_PORT_9125_UDP_PROTO': 'udp',\n",
      " 'FEAST_RELEASE_PROMETHEUS_STATSD_EXPORTER_UDP_SERVICE_HOST': '10.79.245.251',\n",
      " 'FEAST_RELEASE_PROMETHEUS_STATSD_EXPORTER_UDP_SERVICE_PORT': '9125',\n",
      " 'FEAST_RELEASE_PROMETHEUS_STATSD_EXPORTER_UDP_SERVICE_PORT_STATSD_UDP': '9125',\n",
      " 'FEAST_RELEASE_REDIS_MASTER_PORT': 'tcp://10.79.243.133:6379',\n",
      " 'FEAST_RELEASE_REDIS_MASTER_PORT_6379_TCP': 'tcp://10.79.243.133:6379',\n",
      " 'FEAST_RELEASE_REDIS_MASTER_PORT_6379_TCP_ADDR': '10.79.243.133',\n",
      " 'FEAST_RELEASE_REDIS_MASTER_PORT_6379_TCP_PORT': '6379',\n",
      " 'FEAST_RELEASE_REDIS_MASTER_PORT_6379_TCP_PROTO': 'tcp',\n",
      " 'FEAST_RELEASE_REDIS_MASTER_SERVICE_HOST': '10.79.243.133',\n",
      " 'FEAST_RELEASE_REDIS_MASTER_SERVICE_PORT': '6379',\n",
      " 'FEAST_RELEASE_REDIS_MASTER_SERVICE_PORT_REDIS': '6379',\n",
      " 'FEAST_RELEASE_REDIS_SLAVE_PORT': 'tcp://10.79.242.230:6379',\n",
      " 'FEAST_RELEASE_REDIS_SLAVE_PORT_6379_TCP': 'tcp://10.79.242.230:6379',\n",
      " 'FEAST_RELEASE_REDIS_SLAVE_PORT_6379_TCP_ADDR': '10.79.242.230',\n",
      " 'FEAST_RELEASE_REDIS_SLAVE_PORT_6379_TCP_PORT': '6379',\n",
      " 'FEAST_RELEASE_REDIS_SLAVE_PORT_6379_TCP_PROTO': 'tcp',\n",
      " 'FEAST_RELEASE_REDIS_SLAVE_SERVICE_HOST': '10.79.242.230',\n",
      " 'FEAST_RELEASE_REDIS_SLAVE_SERVICE_PORT': '6379',\n",
      " 'FEAST_RELEASE_REDIS_SLAVE_SERVICE_PORT_REDIS': '6379',\n",
      " 'FEAST_RELEASE_ZOOKEEPER_PORT': 'tcp://10.79.248.222:2181',\n",
      " 'FEAST_RELEASE_ZOOKEEPER_PORT_2181_TCP': 'tcp://10.79.248.222:2181',\n",
      " 'FEAST_RELEASE_ZOOKEEPER_PORT_2181_TCP_ADDR': '10.79.248.222',\n",
      " 'FEAST_RELEASE_ZOOKEEPER_PORT_2181_TCP_PORT': '2181',\n",
      " 'FEAST_RELEASE_ZOOKEEPER_PORT_2181_TCP_PROTO': 'tcp',\n",
      " 'FEAST_RELEASE_ZOOKEEPER_PORT_2888_TCP': 'tcp://10.79.248.222:2888',\n",
      " 'FEAST_RELEASE_ZOOKEEPER_PORT_2888_TCP_ADDR': '10.79.248.222',\n",
      " 'FEAST_RELEASE_ZOOKEEPER_PORT_2888_TCP_PORT': '2888',\n",
      " 'FEAST_RELEASE_ZOOKEEPER_PORT_2888_TCP_PROTO': 'tcp',\n",
      " 'FEAST_RELEASE_ZOOKEEPER_PORT_3888_TCP': 'tcp://10.79.248.222:3888',\n",
      " 'FEAST_RELEASE_ZOOKEEPER_PORT_3888_TCP_ADDR': '10.79.248.222',\n",
      " 'FEAST_RELEASE_ZOOKEEPER_PORT_3888_TCP_PORT': '3888',\n",
      " 'FEAST_RELEASE_ZOOKEEPER_PORT_3888_TCP_PROTO': 'tcp',\n",
      " 'FEAST_RELEASE_ZOOKEEPER_SERVICE_HOST': '10.79.248.222',\n",
      " 'FEAST_RELEASE_ZOOKEEPER_SERVICE_PORT': '2181',\n",
      " 'FEAST_RELEASE_ZOOKEEPER_SERVICE_PORT_FOLLOWER': '2888',\n",
      " 'FEAST_RELEASE_ZOOKEEPER_SERVICE_PORT_TCP_CLIENT': '2181',\n",
      " 'FEAST_RELEASE_ZOOKEEPER_SERVICE_PORT_TCP_ELECTION': '3888',\n",
      " 'FEAST_SERVING_URL': 'feast-release-feast-online-serving:6566',\n",
      " 'FEAST_SPARK_HOME': '/usr/local/spark',\n",
      " 'FEAST_SPARK_LAUNCHER': 'standalone',\n",
      " 'FEAST_SPARK_STANDALONE_MASTER': 'local[*]'}\n"
     ]
    }
   ],
   "source": [
    "import os\n",
    "from pprint import pprint\n",
    "pprint({key: value for key, value in os.environ.items() if key.startswith(\"FEAST_\")})"
   ]
  },
  {
   "cell_type": "markdown",
   "metadata": {},
   "source": [
    "### Basic Imports and Feast Client initialization"
   ]
  },
  {
   "cell_type": "code",
   "execution_count": 3,
   "metadata": {},
   "outputs": [],
   "source": [
    "import os\n",
    "\n",
    "from feast import Client, Feature, Entity, ValueType, FeatureTable\n",
    "from feast.data_source import FileSource, KafkaSource\n",
    "from feast.data_format import ParquetFormat, AvroFormat"
   ]
  },
  {
   "cell_type": "code",
   "execution_count": 4,
   "metadata": {},
   "outputs": [
    {
     "name": "stderr",
     "output_type": "stream",
     "text": [
      "/opt/conda/lib/python3.8/site-packages/ipykernel/ipkernel.py:287: DeprecationWarning: `should_run_async` will not call `transform_cell` automatically in the future. Please pass the result to `transformed_cell` argument and any exception that happen during thetransform in `preprocessing_exc_tuple` in IPython 7.17 and above.\n",
      "  and should_run_async(code)\n"
     ]
    }
   ],
   "source": [
    "#client = Client()\n",
    "client = Client(redis_host=os.environ[\"FEAST_RELEASE_REDIS_MASTER_SERVICE_HOST\"])"
   ]
  },
  {
   "cell_type": "markdown",
   "metadata": {},
   "source": [
    "### Declare Features and Entities"
   ]
  },
  {
   "cell_type": "markdown",
   "metadata": {},
   "source": [
    "Entity defines the primary key(s) associated with one or more feature tables. The entity must be registered before declaring the associated feature tables. "
   ]
  },
  {
   "cell_type": "code",
   "execution_count": 5,
   "metadata": {},
   "outputs": [],
   "source": [
    "driver_id = Entity(name=\"driver_id\", description=\"Driver identifier\", value_type=ValueType.INT64)"
   ]
  },
  {
   "cell_type": "code",
   "execution_count": 6,
   "metadata": {},
   "outputs": [],
   "source": [
    "# Daily updated features \n",
    "acc_rate = Feature(\"acc_rate\", ValueType.FLOAT)\n",
    "conv_rate = Feature(\"conv_rate\", ValueType.FLOAT)\n",
    "avg_daily_trips = Feature(\"avg_daily_trips\", ValueType.INT32)\n",
    "\n",
    "# Real-time updated features\n",
    "trips_today = Feature(\"trips_today\", ValueType.INT32)"
   ]
  },
  {
   "cell_type": "markdown",
   "metadata": {},
   "source": [
    "```python\n",
    "FeatureTable(\n",
    "    name = \"driver_statistics\",\n",
    "    entities = [\"driver_id\"],\n",
    "    features = [\n",
    "        acc_rate,\n",
    "        conv_rate,\n",
    "        avg_daily_trips\n",
    "    ]\n",
    "    ...\n",
    ")\n",
    "```\n",
    "\n",
    "\n",
    "```python\n",
    "FeatureTable(\n",
    "    name = \"driver_trips\",\n",
    "    entities = [\"driver_id\"],\n",
    "    features = [\n",
    "        trips_today\n",
    "    ]\n",
    "    ...\n",
    ")\n",
    "\n",
    "```"
   ]
  },
  {
   "cell_type": "markdown",
   "metadata": {},
   "source": [
    "![Features Join](./images/features-join.png)"
   ]
  },
  {
   "cell_type": "markdown",
   "metadata": {},
   "source": [
    "```python\n",
    "FeatureTable(\n",
    "    ...,\n",
    "    batch_source=FileSource(  # Required\n",
    "        file_format=ParquetFormat(),\n",
    "        file_url=\"gs://feast-demo-data-lake\",\n",
    "        ...\n",
    "    ),\n",
    "    stream_source=KafkaSource(  # Optional\n",
    "        bootstrap_servers=\"...\",\n",
    "        topic=\"driver_trips\",\n",
    "        ...\n",
    "    )\n",
    "```"
   ]
  },
  {
   "cell_type": "markdown",
   "metadata": {},
   "source": [
    "Feature tables group the features together and describe how they can be retrieved. The following examples assume that the feature tables are stored on the local file system, and is accessible from the Spark cluster. If you have setup a GCP service account, you may use GCS instead as the file source."
   ]
  },
  {
   "cell_type": "markdown",
   "metadata": {},
   "source": [
    "`batch_source` defines where the historical features are stored. It is also possible to have an optional `stream_source`, which the feature values are delivered continuously.\n",
    "\n",
    "For now we will define only `batch_source` for both `driver_statistics` and `driver_trips`, and demonstrate the usage of `stream_source` in later part of the tutorial."
   ]
  },
  {
   "cell_type": "code",
   "execution_count": 7,
   "metadata": {},
   "outputs": [],
   "source": [
    "# This is the location we're using for the offline feature store.\n",
    "\n",
    "import os\n",
    "demo_data_location = os.path.join(os.getenv(\"FEAST_SPARK_STAGING_LOCATION\", \"file:///home/jovyan/\"), \"test_data\")\n"
   ]
  },
  {
   "cell_type": "code",
   "execution_count": 8,
   "metadata": {},
   "outputs": [],
   "source": [
    "driver_statistics_source_uri = os.path.join(demo_data_location, \"driver_statistics\")\n",
    "\n",
    "driver_statistics = FeatureTable(\n",
    "    name = \"driver_statistics\",\n",
    "    entities = [\"driver_id\"],\n",
    "    features = [\n",
    "        acc_rate,\n",
    "        conv_rate,\n",
    "        avg_daily_trips\n",
    "    ],\n",
    "    batch_source=FileSource(\n",
    "        event_timestamp_column=\"datetime\",\n",
    "        created_timestamp_column=\"created\",\n",
    "        file_format=ParquetFormat(),\n",
    "        file_url=driver_statistics_source_uri,\n",
    "        date_partition_column=\"date\"\n",
    "    )\n",
    ")"
   ]
  },
  {
   "cell_type": "code",
   "execution_count": 9,
   "metadata": {},
   "outputs": [],
   "source": [
    "driver_trips_source_uri = os.path.join(demo_data_location, \"driver_trips\")\n",
    "\n",
    "\n",
    "driver_trips = FeatureTable(\n",
    "    name = \"driver_trips\",\n",
    "    entities = [\"driver_id\"],\n",
    "    features = [\n",
    "        trips_today\n",
    "    ],\n",
    "    batch_source=FileSource(\n",
    "        event_timestamp_column=\"datetime\",\n",
    "        created_timestamp_column=\"created\",\n",
    "        file_format=ParquetFormat(),\n",
    "        file_url=driver_trips_source_uri,\n",
    "        date_partition_column=\"date\"\n",
    "    )\n",
    ")"
   ]
  },
  {
   "cell_type": "markdown",
   "metadata": {},
   "source": [
    "### Registering entities and feature tables in Feast Core"
   ]
  },
  {
   "cell_type": "code",
   "execution_count": 10,
   "metadata": {},
   "outputs": [],
   "source": [
    "client.apply(driver_id)\n",
    "client.apply(driver_statistics)\n",
    "client.apply(driver_trips)"
   ]
  },
  {
   "cell_type": "code",
   "execution_count": 11,
   "metadata": {},
   "outputs": [
    {
     "name": "stdout",
     "output_type": "stream",
     "text": [
      "spec:\n",
      "  name: driver_statistics\n",
      "  entities:\n",
      "  - driver_id\n",
      "  features:\n",
      "  - name: acc_rate\n",
      "    valueType: FLOAT\n",
      "  - name: avg_daily_trips\n",
      "    valueType: INT32\n",
      "  - name: conv_rate\n",
      "    valueType: FLOAT\n",
      "  batchSource:\n",
      "    type: BATCH_FILE\n",
      "    eventTimestampColumn: datetime\n",
      "    datePartitionColumn: date\n",
      "    createdTimestampColumn: created\n",
      "    fileOptions:\n",
      "      fileFormat:\n",
      "        parquetFormat: {}\n",
      "      fileUrl: file:///home/jovyan/test_data/driver_statistics\n",
      "meta:\n",
      "  createdTimestamp: '2021-03-07T18:57:50Z'\n",
      "\n",
      "spec:\n",
      "  name: driver_trips\n",
      "  entities:\n",
      "  - driver_id\n",
      "  features:\n",
      "  - name: trips_today\n",
      "    valueType: INT32\n",
      "  batchSource:\n",
      "    type: BATCH_FILE\n",
      "    eventTimestampColumn: datetime\n",
      "    datePartitionColumn: date\n",
      "    createdTimestampColumn: created\n",
      "    fileOptions:\n",
      "      fileFormat:\n",
      "        parquetFormat: {}\n",
      "      fileUrl: file:///home/jovyan/test_data/driver_trips\n",
      "meta:\n",
      "  createdTimestamp: '2021-03-07T18:57:50Z'\n",
      "\n"
     ]
    }
   ],
   "source": [
    "print(client.get_feature_table(\"driver_statistics\").to_yaml())\n",
    "print(client.get_feature_table(\"driver_trips\").to_yaml())"
   ]
  },
  {
   "cell_type": "markdown",
   "metadata": {},
   "source": [
    "### Populating batch source"
   ]
  },
  {
   "cell_type": "markdown",
   "metadata": {},
   "source": [
    "Feast is agnostic to how the batch source is populated, as long as it complies to the Feature Table specification. Therefore, any existing ETL tools can be used for the purpose of data ingestion. Alternatively, you can also use Feast SDK to ingest a Panda Dataframe to the batch source."
   ]
  },
  {
   "cell_type": "code",
   "execution_count": 12,
   "metadata": {},
   "outputs": [],
   "source": [
    "import pandas as pd\n",
    "import numpy as np\n",
    "from datetime import datetime"
   ]
  },
  {
   "cell_type": "code",
   "execution_count": 13,
   "metadata": {},
   "outputs": [],
   "source": [
    "def generate_entities():\n",
    "    return np.random.choice(999999, size=100, replace=False)"
   ]
  },
  {
   "cell_type": "code",
   "execution_count": 14,
   "metadata": {},
   "outputs": [],
   "source": [
    "def generate_trips(entities):\n",
    "    df = pd.DataFrame(columns=[\"driver_id\", \"trips_today\", \"datetime\", \"created\"])\n",
    "    df['driver_id'] = entities\n",
    "    df['trips_today'] = np.random.randint(0, 1000, size=100).astype(np.int32)\n",
    "    df['datetime'] = pd.to_datetime(\n",
    "            np.random.randint(\n",
    "                datetime(2020, 10, 10).timestamp(),\n",
    "                datetime(2020, 10, 20).timestamp(),\n",
    "                size=100),\n",
    "        unit=\"s\"\n",
    "    )\n",
    "    df['created'] = pd.to_datetime(datetime.now())\n",
    "    return df\n",
    "    "
   ]
  },
  {
   "cell_type": "code",
   "execution_count": 15,
   "metadata": {},
   "outputs": [],
   "source": [
    "def generate_stats(entities):\n",
    "    df = pd.DataFrame(columns=[\"driver_id\", \"conv_rate\", \"acc_rate\", \"avg_daily_trips\", \"datetime\", \"created\"])\n",
    "    df['driver_id'] = entities\n",
    "    df['conv_rate'] = np.random.random(size=100).astype(np.float32)\n",
    "    df['acc_rate'] = np.random.random(size=100).astype(np.float32)\n",
    "    df['avg_daily_trips'] = np.random.randint(0, 1000, size=100).astype(np.int32)\n",
    "    df['datetime'] = pd.to_datetime(\n",
    "            np.random.randint(\n",
    "                datetime(2020, 10, 10).timestamp(),\n",
    "                datetime(2020, 10, 20).timestamp(),\n",
    "                size=100),\n",
    "        unit=\"s\"\n",
    "    )\n",
    "    df['created'] = pd.to_datetime(datetime.now())\n",
    "    return df"
   ]
  },
  {
   "cell_type": "code",
   "execution_count": 16,
   "metadata": {},
   "outputs": [],
   "source": [
    "entities = generate_entities()\n",
    "stats_df = generate_stats(entities)\n",
    "trips_df = generate_trips(entities)"
   ]
  },
  {
   "cell_type": "code",
   "execution_count": 17,
   "metadata": {},
   "outputs": [
    {
     "name": "stdout",
     "output_type": "stream",
     "text": [
      "Removing temporary file(s)...\n",
      "Data has been successfully ingested into FeatureTable batch source.\n",
      "Removing temporary file(s)...\n",
      "Data has been successfully ingested into FeatureTable batch source.\n"
     ]
    }
   ],
   "source": [
    "client.ingest(driver_statistics, stats_df)\n",
    "client.ingest(driver_trips, trips_df)"
   ]
  },
  {
   "cell_type": "markdown",
   "metadata": {},
   "source": [
    "## Historical Retrieval For Training"
   ]
  },
  {
   "cell_type": "markdown",
   "metadata": {},
   "source": [
    "### Point-in-time correction"
   ]
  },
  {
   "cell_type": "markdown",
   "metadata": {},
   "source": [
    "![Point In Time](https://raw.githubusercontent.com/feast-dev/feast/master/examples/minimal/images/pit-2.png)"
   ]
  },
  {
   "cell_type": "markdown",
   "metadata": {},
   "source": [
    "Feast joins the features to the entities based on the following conditions:\n",
    "1. Entity primary key(s) value matches.\n",
    "2. Feature event timestamp is the closest match possible to the entity event timestamp,\n",
    "   but must not be more recent than the entity event timestamp, and the difference must\n",
    "   not be greater than the maximum age specified in the feature table, unless the maximum age is not specified.\n",
    "3. If more than one feature table rows satisfy condition 1 and 2, feature row with the\n",
    "   most recent created timestamp will be chosen.\n",
    "4. If none of the above conditions are satisfied, the feature rows will have null values."
   ]
  },
  {
   "cell_type": "code",
   "execution_count": 18,
   "metadata": {},
   "outputs": [],
   "source": [
    "import gcsfs\n",
    "from pyarrow.parquet import ParquetDataset\n",
    "from urllib.parse import urlparse"
   ]
  },
  {
   "cell_type": "code",
   "execution_count": 19,
   "metadata": {},
   "outputs": [],
   "source": [
    "def read_parquet(uri):\n",
    "    parsed_uri = urlparse(uri)\n",
    "    if parsed_uri.scheme == \"file\":\n",
    "        return pd.read_parquet(parsed_uri.path)\n",
    "    elif parsed_uri.scheme == \"gs\":\n",
    "        fs = gcsfs.GCSFileSystem()\n",
    "        files = [\"gs://\" + path for path in fs.glob(uri + '/part-*')]\n",
    "        ds = ParquetDataset(files, filesystem=fs)\n",
    "        return ds.read().to_pandas()\n",
    "    elif parsed_uri.scheme == 's3':\n",
    "        import s3fs\n",
    "        fs = s3fs.S3FileSystem()\n",
    "        files = [\"s3://\" + path for path in fs.glob(uri + '/part-*')]\n",
    "        ds = ParquetDataset(files, filesystem=fs)\n",
    "        return ds.read().to_pandas()\n",
    "    elif parsed_uri.scheme == 'wasbs':\n",
    "        import adlfs\n",
    "        fs = adlfs.AzureBlobFileSystem(\n",
    "            account_name=os.getenv('FEAST_AZURE_BLOB_ACCOUNT_NAME'), account_key=os.getenv('FEAST_AZURE_BLOB_ACCOUNT_ACCESS_KEY')\n",
    "        )\n",
    "        uripath = parsed_uri.username + parsed_uri.path\n",
    "        files = fs.glob(uripath + '/part-*')\n",
    "        ds = ParquetDataset(files, filesystem=fs)\n",
    "        return ds.read().to_pandas()\n",
    "    else:\n",
    "        raise ValueError(f\"Unsupported URL scheme {uri}\")"
   ]
  },
  {
   "cell_type": "code",
   "execution_count": 20,
   "metadata": {},
   "outputs": [
    {
     "data": {
      "text/html": [
       "<div>\n",
       "<style scoped>\n",
       "    .dataframe tbody tr th:only-of-type {\n",
       "        vertical-align: middle;\n",
       "    }\n",
       "\n",
       "    .dataframe tbody tr th {\n",
       "        vertical-align: top;\n",
       "    }\n",
       "\n",
       "    .dataframe thead th {\n",
       "        text-align: right;\n",
       "    }\n",
       "</style>\n",
       "<table border=\"1\" class=\"dataframe\">\n",
       "  <thead>\n",
       "    <tr style=\"text-align: right;\">\n",
       "      <th></th>\n",
       "      <th>driver_id</th>\n",
       "      <th>event_timestamp</th>\n",
       "    </tr>\n",
       "  </thead>\n",
       "  <tbody>\n",
       "    <tr>\n",
       "      <th>0</th>\n",
       "      <td>562058</td>\n",
       "      <td>2020-10-18 21:24:07</td>\n",
       "    </tr>\n",
       "    <tr>\n",
       "      <th>1</th>\n",
       "      <td>908252</td>\n",
       "      <td>2020-10-18 12:27:53</td>\n",
       "    </tr>\n",
       "    <tr>\n",
       "      <th>2</th>\n",
       "      <td>280906</td>\n",
       "      <td>2020-10-18 08:37:58</td>\n",
       "    </tr>\n",
       "    <tr>\n",
       "      <th>3</th>\n",
       "      <td>953846</td>\n",
       "      <td>2020-10-19 18:45:27</td>\n",
       "    </tr>\n",
       "    <tr>\n",
       "      <th>4</th>\n",
       "      <td>466482</td>\n",
       "      <td>2020-10-19 19:13:16</td>\n",
       "    </tr>\n",
       "    <tr>\n",
       "      <th>5</th>\n",
       "      <td>868592</td>\n",
       "      <td>2020-10-19 05:10:08</td>\n",
       "    </tr>\n",
       "    <tr>\n",
       "      <th>6</th>\n",
       "      <td>795888</td>\n",
       "      <td>2020-10-18 05:46:20</td>\n",
       "    </tr>\n",
       "    <tr>\n",
       "      <th>7</th>\n",
       "      <td>584763</td>\n",
       "      <td>2020-10-19 23:34:54</td>\n",
       "    </tr>\n",
       "    <tr>\n",
       "      <th>8</th>\n",
       "      <td>20208</td>\n",
       "      <td>2020-10-19 02:30:37</td>\n",
       "    </tr>\n",
       "    <tr>\n",
       "      <th>9</th>\n",
       "      <td>526555</td>\n",
       "      <td>2020-10-18 04:39:33</td>\n",
       "    </tr>\n",
       "  </tbody>\n",
       "</table>\n",
       "</div>"
      ],
      "text/plain": [
       "   driver_id     event_timestamp\n",
       "0     562058 2020-10-18 21:24:07\n",
       "1     908252 2020-10-18 12:27:53\n",
       "2     280906 2020-10-18 08:37:58\n",
       "3     953846 2020-10-19 18:45:27\n",
       "4     466482 2020-10-19 19:13:16\n",
       "5     868592 2020-10-19 05:10:08\n",
       "6     795888 2020-10-18 05:46:20\n",
       "7     584763 2020-10-19 23:34:54\n",
       "8      20208 2020-10-19 02:30:37\n",
       "9     526555 2020-10-18 04:39:33"
      ]
     },
     "execution_count": 20,
     "metadata": {},
     "output_type": "execute_result"
    }
   ],
   "source": [
    "entities_with_timestamp = pd.DataFrame(columns=['driver_id', 'event_timestamp'])\n",
    "entities_with_timestamp['driver_id'] = np.random.choice(entities, 10, replace=False)\n",
    "entities_with_timestamp['event_timestamp'] = pd.to_datetime(np.random.randint(\n",
    "    datetime(2020, 10, 18).timestamp(),\n",
    "    datetime(2020, 10, 20).timestamp(),\n",
    "    size=10), unit='s')\n",
    "entities_with_timestamp"
   ]
  },
  {
   "cell_type": "code",
   "execution_count": 21,
   "metadata": {},
   "outputs": [
    {
     "name": "stderr",
     "output_type": "stream",
     "text": [
      "/opt/conda/lib/python3.8/site-packages/ipykernel/ipkernel.py:287: DeprecationWarning: `should_run_async` will not call `transform_cell` automatically in the future. Please pass the result to `transformed_cell` argument and any exception that happen during thetransform in `preprocessing_exc_tuple` in IPython 7.17 and above.\n",
      "  and should_run_async(code)\n"
     ]
    }
   ],
   "source": [
    "# get_historical_features will return immediately once the Spark job has been submitted succesfully.\n",
    "job = client.get_historical_features(\n",
    "    feature_refs=[\n",
    "        \"driver_statistics:avg_daily_trips\",\n",
    "        \"driver_statistics:conv_rate\",\n",
    "        \"driver_statistics:acc_rate\",\n",
    "        \"driver_trips:trips_today\"\n",
    "    ], \n",
    "    entity_source=entities_with_timestamp\n",
    ")"
   ]
  },
  {
   "cell_type": "code",
   "execution_count": 22,
   "metadata": {},
   "outputs": [],
   "source": [
    "# get_output_file_uri will block until the Spark job is completed.\n",
    "output_file_uri = job.get_output_file_uri()"
   ]
  },
  {
   "cell_type": "code",
   "execution_count": 23,
   "metadata": {},
   "outputs": [
    {
     "data": {
      "text/html": [
       "<div>\n",
       "<style scoped>\n",
       "    .dataframe tbody tr th:only-of-type {\n",
       "        vertical-align: middle;\n",
       "    }\n",
       "\n",
       "    .dataframe tbody tr th {\n",
       "        vertical-align: top;\n",
       "    }\n",
       "\n",
       "    .dataframe thead th {\n",
       "        text-align: right;\n",
       "    }\n",
       "</style>\n",
       "<table border=\"1\" class=\"dataframe\">\n",
       "  <thead>\n",
       "    <tr style=\"text-align: right;\">\n",
       "      <th></th>\n",
       "      <th>driver_id</th>\n",
       "      <th>event_timestamp</th>\n",
       "      <th>driver_statistics__acc_rate</th>\n",
       "      <th>driver_statistics__avg_daily_trips</th>\n",
       "      <th>driver_statistics__conv_rate</th>\n",
       "      <th>driver_trips__trips_today</th>\n",
       "    </tr>\n",
       "  </thead>\n",
       "  <tbody>\n",
       "    <tr>\n",
       "      <th>0</th>\n",
       "      <td>584763</td>\n",
       "      <td>2020-10-19 23:34:54</td>\n",
       "      <td>0.710741</td>\n",
       "      <td>827.0</td>\n",
       "      <td>0.260125</td>\n",
       "      <td>999.0</td>\n",
       "    </tr>\n",
       "    <tr>\n",
       "      <th>1</th>\n",
       "      <td>868592</td>\n",
       "      <td>2020-10-19 05:10:08</td>\n",
       "      <td>0.914961</td>\n",
       "      <td>757.0</td>\n",
       "      <td>0.352230</td>\n",
       "      <td>319.0</td>\n",
       "    </tr>\n",
       "    <tr>\n",
       "      <th>2</th>\n",
       "      <td>280906</td>\n",
       "      <td>2020-10-18 08:37:58</td>\n",
       "      <td>0.041406</td>\n",
       "      <td>822.0</td>\n",
       "      <td>0.986108</td>\n",
       "      <td>723.0</td>\n",
       "    </tr>\n",
       "    <tr>\n",
       "      <th>3</th>\n",
       "      <td>466482</td>\n",
       "      <td>2020-10-19 19:13:16</td>\n",
       "      <td>0.665796</td>\n",
       "      <td>917.0</td>\n",
       "      <td>0.859925</td>\n",
       "      <td>NaN</td>\n",
       "    </tr>\n",
       "    <tr>\n",
       "      <th>4</th>\n",
       "      <td>562058</td>\n",
       "      <td>2020-10-18 21:24:07</td>\n",
       "      <td>NaN</td>\n",
       "      <td>NaN</td>\n",
       "      <td>NaN</td>\n",
       "      <td>109.0</td>\n",
       "    </tr>\n",
       "    <tr>\n",
       "      <th>5</th>\n",
       "      <td>795888</td>\n",
       "      <td>2020-10-18 05:46:20</td>\n",
       "      <td>NaN</td>\n",
       "      <td>NaN</td>\n",
       "      <td>NaN</td>\n",
       "      <td>421.0</td>\n",
       "    </tr>\n",
       "    <tr>\n",
       "      <th>6</th>\n",
       "      <td>20208</td>\n",
       "      <td>2020-10-19 02:30:37</td>\n",
       "      <td>0.224763</td>\n",
       "      <td>748.0</td>\n",
       "      <td>0.207194</td>\n",
       "      <td>NaN</td>\n",
       "    </tr>\n",
       "    <tr>\n",
       "      <th>7</th>\n",
       "      <td>526555</td>\n",
       "      <td>2020-10-18 04:39:33</td>\n",
       "      <td>0.886505</td>\n",
       "      <td>883.0</td>\n",
       "      <td>0.149670</td>\n",
       "      <td>330.0</td>\n",
       "    </tr>\n",
       "    <tr>\n",
       "      <th>8</th>\n",
       "      <td>908252</td>\n",
       "      <td>2020-10-18 12:27:53</td>\n",
       "      <td>0.236039</td>\n",
       "      <td>405.0</td>\n",
       "      <td>0.731940</td>\n",
       "      <td>NaN</td>\n",
       "    </tr>\n",
       "    <tr>\n",
       "      <th>9</th>\n",
       "      <td>953846</td>\n",
       "      <td>2020-10-19 18:45:27</td>\n",
       "      <td>0.930113</td>\n",
       "      <td>505.0</td>\n",
       "      <td>0.580799</td>\n",
       "      <td>938.0</td>\n",
       "    </tr>\n",
       "  </tbody>\n",
       "</table>\n",
       "</div>"
      ],
      "text/plain": [
       "   driver_id     event_timestamp  driver_statistics__acc_rate  \\\n",
       "0     584763 2020-10-19 23:34:54                     0.710741   \n",
       "1     868592 2020-10-19 05:10:08                     0.914961   \n",
       "2     280906 2020-10-18 08:37:58                     0.041406   \n",
       "3     466482 2020-10-19 19:13:16                     0.665796   \n",
       "4     562058 2020-10-18 21:24:07                          NaN   \n",
       "5     795888 2020-10-18 05:46:20                          NaN   \n",
       "6      20208 2020-10-19 02:30:37                     0.224763   \n",
       "7     526555 2020-10-18 04:39:33                     0.886505   \n",
       "8     908252 2020-10-18 12:27:53                     0.236039   \n",
       "9     953846 2020-10-19 18:45:27                     0.930113   \n",
       "\n",
       "   driver_statistics__avg_daily_trips  driver_statistics__conv_rate  \\\n",
       "0                               827.0                      0.260125   \n",
       "1                               757.0                      0.352230   \n",
       "2                               822.0                      0.986108   \n",
       "3                               917.0                      0.859925   \n",
       "4                                 NaN                           NaN   \n",
       "5                                 NaN                           NaN   \n",
       "6                               748.0                      0.207194   \n",
       "7                               883.0                      0.149670   \n",
       "8                               405.0                      0.731940   \n",
       "9                               505.0                      0.580799   \n",
       "\n",
       "   driver_trips__trips_today  \n",
       "0                      999.0  \n",
       "1                      319.0  \n",
       "2                      723.0  \n",
       "3                        NaN  \n",
       "4                      109.0  \n",
       "5                      421.0  \n",
       "6                        NaN  \n",
       "7                      330.0  \n",
       "8                        NaN  \n",
       "9                      938.0  "
      ]
     },
     "execution_count": 23,
     "metadata": {},
     "output_type": "execute_result"
    }
   ],
   "source": [
    "read_parquet(output_file_uri)"
   ]
  },
  {
   "cell_type": "markdown",
   "metadata": {},
   "source": [
    "The retrieved result can now be used for model training."
   ]
  },
  {
   "cell_type": "markdown",
   "metadata": {},
   "source": [
    "## Populating Online Storage with Batch Ingestion"
   ]
  },
  {
   "cell_type": "markdown",
   "metadata": {},
   "source": [
    "In order to populate the online storage, we can use Feast SDK to start a Spark batch job which will extract the features from the batch source, then load the features to an online store."
   ]
  },
  {
   "cell_type": "code",
   "execution_count": 24,
   "metadata": {},
   "outputs": [
    {
     "name": "stderr",
     "output_type": "stream",
     "text": [
      "/opt/conda/lib/python3.8/site-packages/ipykernel/ipkernel.py:287: DeprecationWarning: `should_run_async` will not call `transform_cell` automatically in the future. Please pass the result to `transformed_cell` argument and any exception that happen during thetransform in `preprocessing_exc_tuple` in IPython 7.17 and above.\n",
      "  and should_run_async(code)\n"
     ]
    }
   ],
   "source": [
    "import time\n",
    "time.sleep(5)\n",
    "job = client.start_offline_to_online_ingestion(\n",
    "    driver_statistics,\n",
    "    datetime(2020, 10, 10),\n",
    "    datetime(2020, 10, 20)\n",
    ")"
   ]
  },
  {
   "cell_type": "code",
   "execution_count": 25,
   "metadata": {},
   "outputs": [
    {
     "data": {
      "text/plain": [
       "<SparkJobStatus.IN_PROGRESS: 1>"
      ]
     },
     "execution_count": 25,
     "metadata": {},
     "output_type": "execute_result"
    }
   ],
   "source": [
    "# It will take some time before the Spark Job is completed\n",
    "time.sleep(15)\n",
    "job.get_status()"
   ]
  },
  {
   "cell_type": "markdown",
   "metadata": {},
   "source": [
    "Once the job is completed, the SDK can be used to retrieve the result from the online store."
   ]
  },
  {
   "cell_type": "code",
   "execution_count": 26,
   "metadata": {},
   "outputs": [
    {
     "data": {
      "text/plain": [
       "[{'driver_id': 23097},\n",
       " {'driver_id': 983857},\n",
       " {'driver_id': 556413},\n",
       " {'driver_id': 788868},\n",
       " {'driver_id': 577458},\n",
       " {'driver_id': 780395},\n",
       " {'driver_id': 863735},\n",
       " {'driver_id': 999395},\n",
       " {'driver_id': 661703},\n",
       " {'driver_id': 420078}]"
      ]
     },
     "execution_count": 26,
     "metadata": {},
     "output_type": "execute_result"
    }
   ],
   "source": [
    "time.sleep(10)\n",
    "entities_sample = np.random.choice(entities, 10, replace=False)\n",
    "entities_sample = [{\"driver_id\": e} for e in entities_sample]\n",
    "entities_sample"
   ]
  },
  {
   "cell_type": "code",
   "execution_count": 27,
   "metadata": {},
   "outputs": [
    {
     "data": {
      "text/plain": [
       "{'driver_id': [23097,\n",
       "  983857,\n",
       "  556413,\n",
       "  788868,\n",
       "  577458,\n",
       "  780395,\n",
       "  863735,\n",
       "  999395,\n",
       "  661703,\n",
       "  420078],\n",
       " 'driver_statistics:avg_daily_trips': [889,\n",
       "  685,\n",
       "  253,\n",
       "  221,\n",
       "  12,\n",
       "  778,\n",
       "  395,\n",
       "  861,\n",
       "  95,\n",
       "  596]}"
      ]
     },
     "execution_count": 27,
     "metadata": {},
     "output_type": "execute_result"
    }
   ],
   "source": [
    "time.sleep(10)\n",
    "features = client.get_online_features(\n",
    "    feature_refs=[\"driver_statistics:avg_daily_trips\"],\n",
    "    entity_rows=entities_sample).to_dict()\n",
    "features"
   ]
  },
  {
   "cell_type": "code",
   "execution_count": 28,
   "metadata": {},
   "outputs": [
    {
     "data": {
      "text/html": [
       "<div>\n",
       "<style scoped>\n",
       "    .dataframe tbody tr th:only-of-type {\n",
       "        vertical-align: middle;\n",
       "    }\n",
       "\n",
       "    .dataframe tbody tr th {\n",
       "        vertical-align: top;\n",
       "    }\n",
       "\n",
       "    .dataframe thead th {\n",
       "        text-align: right;\n",
       "    }\n",
       "</style>\n",
       "<table border=\"1\" class=\"dataframe\">\n",
       "  <thead>\n",
       "    <tr style=\"text-align: right;\">\n",
       "      <th></th>\n",
       "      <th>driver_id</th>\n",
       "      <th>driver_statistics:avg_daily_trips</th>\n",
       "    </tr>\n",
       "  </thead>\n",
       "  <tbody>\n",
       "    <tr>\n",
       "      <th>0</th>\n",
       "      <td>23097</td>\n",
       "      <td>889</td>\n",
       "    </tr>\n",
       "    <tr>\n",
       "      <th>1</th>\n",
       "      <td>983857</td>\n",
       "      <td>685</td>\n",
       "    </tr>\n",
       "    <tr>\n",
       "      <th>2</th>\n",
       "      <td>556413</td>\n",
       "      <td>253</td>\n",
       "    </tr>\n",
       "    <tr>\n",
       "      <th>3</th>\n",
       "      <td>788868</td>\n",
       "      <td>221</td>\n",
       "    </tr>\n",
       "    <tr>\n",
       "      <th>4</th>\n",
       "      <td>577458</td>\n",
       "      <td>12</td>\n",
       "    </tr>\n",
       "    <tr>\n",
       "      <th>5</th>\n",
       "      <td>780395</td>\n",
       "      <td>778</td>\n",
       "    </tr>\n",
       "    <tr>\n",
       "      <th>6</th>\n",
       "      <td>863735</td>\n",
       "      <td>395</td>\n",
       "    </tr>\n",
       "    <tr>\n",
       "      <th>7</th>\n",
       "      <td>999395</td>\n",
       "      <td>861</td>\n",
       "    </tr>\n",
       "    <tr>\n",
       "      <th>8</th>\n",
       "      <td>661703</td>\n",
       "      <td>95</td>\n",
       "    </tr>\n",
       "    <tr>\n",
       "      <th>9</th>\n",
       "      <td>420078</td>\n",
       "      <td>596</td>\n",
       "    </tr>\n",
       "  </tbody>\n",
       "</table>\n",
       "</div>"
      ],
      "text/plain": [
       "   driver_id  driver_statistics:avg_daily_trips\n",
       "0      23097                                889\n",
       "1     983857                                685\n",
       "2     556413                                253\n",
       "3     788868                                221\n",
       "4     577458                                 12\n",
       "5     780395                                778\n",
       "6     863735                                395\n",
       "7     999395                                861\n",
       "8     661703                                 95\n",
       "9     420078                                596"
      ]
     },
     "execution_count": 28,
     "metadata": {},
     "output_type": "execute_result"
    }
   ],
   "source": [
    "time.sleep(10)\n",
    "pd.DataFrame(features)"
   ]
  },
  {
   "cell_type": "code",
   "execution_count": null,
   "metadata": {},
   "outputs": [],
   "source": []
  }
 ],
 "metadata": {
  "kernelspec": {
   "display_name": "Python 3",
   "language": "python",
   "name": "python3"
  },
  "language_info": {
   "codemirror_mode": {
    "name": "ipython",
    "version": 3
   },
   "file_extension": ".py",
   "mimetype": "text/x-python",
   "name": "python",
   "nbconvert_exporter": "python",
   "pygments_lexer": "ipython3",
   "version": "3.8.6"
  }
 },
 "nbformat": 4,
 "nbformat_minor": 4
}
